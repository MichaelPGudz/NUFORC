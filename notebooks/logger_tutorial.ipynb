{
 "cells": [
  {
   "cell_type": "code",
   "execution_count": 3,
   "id": "novel-wrestling",
   "metadata": {
    "ExecuteTime": {
     "end_time": "2021-03-01T17:23:23.670259Z",
     "start_time": "2021-03-01T17:23:23.661259Z"
    }
   },
   "outputs": [],
   "source": [
    "import logging\n",
    "console_handler = logging.StreamHandler()\n",
    "file_handler = logging.FileHandler(\"filename\")\n",
    "toto_logger = logging.getLogger(\"toto\")"
   ]
  },
  {
   "cell_type": "code",
   "execution_count": 4,
   "id": "technological-owner",
   "metadata": {
    "ExecuteTime": {
     "end_time": "2021-03-01T17:24:30.050056Z",
     "start_time": "2021-03-01T17:24:30.044055Z"
    }
   },
   "outputs": [],
   "source": [
    "lab = logging.getLogger(\"a.b\")\n",
    "assert lab.parent == logging.root # lab's parent is indeed the root logger"
   ]
  },
  {
   "cell_type": "code",
   "execution_count": 5,
   "id": "correct-notice",
   "metadata": {},
   "outputs": [
    {
     "name": "stderr",
     "output_type": "stream",
     "text": [
      "debug message\n"
     ]
    }
   ],
   "source": [
    "toto_logger = logging.getLogger(\"toto\")\n",
    "assert toto_logger.level == logging.NOTSET # new logger has NOTSET level\n",
    "assert toto_logger.getEffectiveLevel() == logging.WARN # and its effective level is the root logger level, i.e. WARN\n",
    "\n",
    "# attach a console handler to toto_logger\n",
    "console_handler = logging.StreamHandler()\n",
    "toto_logger.addHandler(console_handler)\n",
    "toto_logger.debug(\"debug\") # nothing is displayed as the log level DEBUG is smaller than toto effective level\n",
    "toto_logger.setLevel(logging.DEBUG)\n",
    "toto_logger.debug(\"debug message\") # now you should see \"debug message\" on screen"
   ]
  },
  {
   "cell_type": "code",
   "execution_count": 2,
   "id": "considered-cartridge",
   "metadata": {},
   "outputs": [
    {
     "data": {
      "text/plain": [
       "{'a': 1, 'b': 3, 'c': 4}"
      ]
     },
     "execution_count": 2,
     "metadata": {},
     "output_type": "execute_result"
    }
   ],
   "source": [
    "x = {'a': 1, 'b': 2}\n",
    "y = {'b': 3, 'c': 4}\n",
    "z = {**x, **y}\n",
    "z"
   ]
  },
  {
   "cell_type": "code",
   "execution_count": 9,
   "id": "imposed-teacher",
   "metadata": {},
   "outputs": [
    {
     "data": {
      "text/plain": [
       "{'test': 'test', 'test2': 'test2'}"
      ]
     },
     "execution_count": 9,
     "metadata": {},
     "output_type": "execute_result"
    }
   ],
   "source": [
    "lst = ['test', 'test2']\n",
    "lst_2 = lst.copy()\n",
    "\n",
    "res = {lst[i]: lst_2[i] for i in range(len(lst))} \n",
    "res"
   ]
  },
  {
   "cell_type": "code",
   "execution_count": null,
   "id": "ignored-warner",
   "metadata": {},
   "outputs": [],
   "source": []
  }
 ],
 "metadata": {
  "kernelspec": {
   "display_name": "Python 3",
   "language": "python",
   "name": "python3"
  },
  "language_info": {
   "codemirror_mode": {
    "name": "ipython",
    "version": 3
   },
   "file_extension": ".py",
   "mimetype": "text/x-python",
   "name": "python",
   "nbconvert_exporter": "python",
   "pygments_lexer": "ipython3",
   "version": "3.8.5"
  },
  "varInspector": {
   "cols": {
    "lenName": 16,
    "lenType": 16,
    "lenVar": 40
   },
   "kernels_config": {
    "python": {
     "delete_cmd_postfix": "",
     "delete_cmd_prefix": "del ",
     "library": "var_list.py",
     "varRefreshCmd": "print(var_dic_list())"
    },
    "r": {
     "delete_cmd_postfix": ") ",
     "delete_cmd_prefix": "rm(",
     "library": "var_list.r",
     "varRefreshCmd": "cat(var_dic_list()) "
    }
   },
   "types_to_exclude": [
    "module",
    "function",
    "builtin_function_or_method",
    "instance",
    "_Feature"
   ],
   "window_display": false
  }
 },
 "nbformat": 4,
 "nbformat_minor": 5
}
